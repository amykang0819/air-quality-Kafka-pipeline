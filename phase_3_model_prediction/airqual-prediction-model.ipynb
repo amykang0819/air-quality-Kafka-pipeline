{
 "cells": [
  {
   "cell_type": "code",
   "execution_count": null,
   "metadata": {},
   "outputs": [],
   "source": [
    "import pandas as pd\n",
    "\n",
    "consumer_data = pd.read_csv('C:/airqual-project/air-quality-Kafka-pipeline/consumed_air_quality_data.csv', parse_dates=['Datetime'])\n",
    "consumer_data.set_index('Datetime', inplace=True) # Setting as index for convenience\n",
    "\n",
    "# Time-based features (hour, day, month, year)\n",
    "consumer_data['Hour'] = consumer_data.index.hour\n",
    "consumer_data['Day'] = consumer_data.index.day\n",
    "consumer_data['Month'] = consumer_data.index.month\n",
    "consumer_data['Year'] = consumer_data.index.year\n",
    "\n",
    "# Lagged features \n",
    "consumer_data['co_lag_1'] = consumer_data['co_gt'].shift(1) # Lagged by 1 hour for recent trends\n",
    "consumer_data['co_lag_24'] = consumer_data['co_gt'].shift(24) # Lagged by 24 hours (1 day) for daily trends\n",
    "consumer_data['co_lag_168'] = consumer_data['co_gt'].shift(168) # Lagged by 168 hours (7 days) for weekly trends\n",
    "\n",
    "consumer_data['nox_lag_1'] = consumer_data['nox_gt'].shift(1)\n",
    "consumer_data['nox_lag_24'] = consumer_data['nox_gt'].shift(24)\n",
    "consumer_data['nox_lag_168'] = consumer_data['nox_gt'].shift(168)\n",
    "\n",
    "consumer_data['benzene_lag_1'] = consumer_data['c6h6_gt'].shift(1)\n",
    "consumer_data['benzene_lag_24'] = consumer_data['c6h6_gt'].shift(24)\n",
    "consumer_data['benzene_lag_168'] = consumer_data['c6h6_gt'].shift(168)\n",
    "\n",
    "cols = ['co_lag_1', 'co_lag_24', 'co_lag_168',\n",
    "        'nox_lag_1', 'nox_lag_24', 'nox_lag_168',\n",
    "        'benzene_lag_1', 'benzene_lag_24', 'benzene_lag_168']\n",
    "consumer_data.dropna(subset=cols, inplace=True)\n",
    "# print(consumer_data[cols + ['co_gt', 'nox_gt', 'c6h6_gt']].head())\n",
    "\n",
    "# Rolling features \n",
    "cols = ['co_gt', 'nox_gt', 'c6h6_gt']\n",
    "windows = [3, 24, 168]\n",
    "\n",
    "for col in cols:\n",
    "    for window in windows:\n",
    "        consumer_data[f'{col}_roll_mean_{window}'] = consumer_data[col].rolling(window=window).mean()\n",
    "        consumer_data[f'{col}_roll_std_{window}'] = consumer_data[col].rolling(window=window).std()\n",
    "        # print(consumer_data[f'{col}_roll_mean_{window}'].head(5))\n",
    "        # print(consumer_data[f'{col}_roll_std_{window}'].head(5))\n",
    "\n",
    "consumer_data.dropna(subset=[f'{col}_roll_mean_{window}', f'{col}_roll_std_{window}'], inplace=True)\n",
    "\n",
    "# Final features set\n",
    "feature_cols = [col for col in consumer_data.columns if 'lag' in col or 'roll' in col or \n",
    "                col in ['Hour', 'Day', 'Month', 'Year']]"
   ]
  },
  {
   "cell_type": "code",
   "execution_count": 27,
   "metadata": {},
   "outputs": [
    {
     "name": "stdout",
     "output_type": "stream",
     "text": [
      "0.5693509803530304 0.3992155771083714\n"
     ]
    }
   ],
   "source": [
    "from sklearn.linear_model import LinearRegression\n",
    "from sklearn.model_selection import train_test_split\n",
    "from sklearn.metrics import root_mean_squared_error, mean_absolute_error\n",
    "\n",
    "# Baseline model\n",
    "x = consumer_data[feature_cols]\n",
    "y = consumer_data[['co_gt', 'nox_gt', 'c6h6_gt']]\n",
    "\n",
    "x_train, x_test, y_train, y_test = train_test_split(x, y, test_size=0.2, random_state=42) # Train-test split\n",
    "\n",
    "lr_model = LinearRegression()\n",
    "lr_model.fit(x_train, y_train) \n",
    "y_pred_lr = lr_model.predict(x_test)\n",
    "\n",
    "rmse_lr = root_mean_squared_error(y_test, y_pred_lr) \n",
    "mae_lr = mean_absolute_error(y_test, y_pred_lr)\n",
    "print(rmse_lr, mae_lr)"
   ]
  },
  {
   "cell_type": "code",
   "execution_count": null,
   "metadata": {},
   "outputs": [
    {
     "name": "stdout",
     "output_type": "stream",
     "text": [
      "0.3633006064267687 0.22377030728662053\n"
     ]
    },
    {
     "data": {
      "text/plain": [
       "['C:/airqual-project/phase_3_model_prediction/model_features.pkl']"
      ]
     },
     "execution_count": 35,
     "metadata": {},
     "output_type": "execute_result"
    }
   ],
   "source": [
    "# Random Forest model\n",
    "from sklearn.ensemble import RandomForestRegressor\n",
    "from sklearn.multioutput import MultiOutputRegressor\n",
    "\n",
    "rf_model = MultiOutputRegressor(RandomForestRegressor(n_estimators=100, random_state=42))\n",
    "rf_model.fit(x_train, y_train)\n",
    "y_pred_rf = rf_model.predict(x_test)\n",
    "\n",
    "rmse_rf = root_mean_squared_error(y_test, y_pred_rf)\n",
    "mae_rf = mean_absolute_error(y_test, y_pred_rf)\n",
    "print(rmse_rf, mae_rf)\n",
    "\n",
    "# Save model\n",
    "import joblib\n",
    "joblib.dump(rf_model, 'C:/airqual-project/phase_3_model_prediction/air_quality_model.pkl')\n",
    "joblib.dump(feature_cols, 'C:/airqual-project/phase_3_model_prediction/model_features.pkl')"
   ]
  },
  {
   "cell_type": "code",
   "execution_count": 34,
   "metadata": {},
   "outputs": [
    {
     "name": "stderr",
     "output_type": "stream",
     "text": [
      "C:\\Users\\amyk0\\AppData\\Local\\Temp\\ipykernel_3112\\979400572.py:4: FutureWarning: 'H' is deprecated and will be removed in a future version, please use 'h' instead.\n",
      "  ts = consumer_data['co_gt'].asfreq('H')\n"
     ]
    },
    {
     "name": "stdout",
     "output_type": "stream",
     "text": [
      "1.2318626089302391 0.9087319026262947\n"
     ]
    }
   ],
   "source": [
    "# SARIMA model (co_gt only)\n",
    "from statsmodels.tsa.statespace.sarimax import SARIMAX\n",
    "\n",
    "ts = consumer_data['co_gt'].asfreq('H')\n",
    "sarima_model = SARIMAX(ts, order=(2, 1, 2), seasonal_order=(1, 1, 1, 24))\n",
    "sarima_model_fit = sarima_model.fit()\n",
    "y_pred_sarima = sarima_model_fit.forecast(steps=len(x_test))\n",
    "sarima_rmse = root_mean_squared_error(y_test['co_gt'], y_pred_sarima)\n",
    "sarima_mae = mean_absolute_error(y_test['co_gt'], y_pred_sarima)\n",
    "print(sarima_rmse, sarima_mae)"
   ]
  }
 ],
 "metadata": {
  "kernelspec": {
   "display_name": "base",
   "language": "python",
   "name": "python3"
  },
  "language_info": {
   "codemirror_mode": {
    "name": "ipython",
    "version": 3
   },
   "file_extension": ".py",
   "mimetype": "text/x-python",
   "name": "python",
   "nbconvert_exporter": "python",
   "pygments_lexer": "ipython3",
   "version": "3.12.4"
  }
 },
 "nbformat": 4,
 "nbformat_minor": 2
}
